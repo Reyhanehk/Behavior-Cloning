{
 "cells": [
  {
   "cell_type": "markdown",
   "metadata": {},
   "source": [
    "## Preprocessing the data\n",
    "Here we start by preprocessing the data. \n",
    "Fist step is to load all the needed libraries"
   ]
  },
  {
   "cell_type": "code",
   "execution_count": 1,
   "metadata": {},
   "outputs": [
    {
     "name": "stderr",
     "output_type": "stream",
     "text": [
      "Using Theano backend.\n"
     ]
    }
   ],
   "source": [
    "%matplotlib inline\n",
    "from keras.models import Sequential, Model\n",
    "from keras.layers import GlobalAveragePooling2D, Dense, Flatten, Dropout, ELU, BatchNormalization, Lambda, merge, MaxPooling2D, Input, Activation\n",
    "from keras.layers.convolutional import Convolution2D, Cropping2D\n",
    "from keras.utils.vis_utils import plot_model as plot\n",
    "from keras.optimizers import Adam\n",
    "from keras.callbacks import Callback, RemoteMonitor\n",
    "import keras.backend as K\n",
    "\n",
    "\n",
    "import pandas as pd \n",
    "import matplotlib.pyplot as plt\n",
    "import cv2\n",
    "import random\n",
    "import numpy as np\n",
    "import json"
   ]
  },
  {
   "cell_type": "markdown",
   "metadata": {},
   "source": [
    "Now lets load our data and see sample of it:"
   ]
  },
  {
   "cell_type": "code",
   "execution_count": 2,
   "metadata": {},
   "outputs": [
    {
     "data": {
      "text/html": [
       "<div>\n",
       "<style>\n",
       "    .dataframe thead tr:only-child th {\n",
       "        text-align: right;\n",
       "    }\n",
       "\n",
       "    .dataframe thead th {\n",
       "        text-align: left;\n",
       "    }\n",
       "\n",
       "    .dataframe tbody tr th {\n",
       "        vertical-align: top;\n",
       "    }\n",
       "</style>\n",
       "<table border=\"1\" class=\"dataframe\">\n",
       "  <thead>\n",
       "    <tr style=\"text-align: right;\">\n",
       "      <th></th>\n",
       "      <th>center</th>\n",
       "      <th>left</th>\n",
       "      <th>right</th>\n",
       "      <th>steering</th>\n",
       "      <th>throttle</th>\n",
       "      <th>brake</th>\n",
       "      <th>speed</th>\n",
       "    </tr>\n",
       "  </thead>\n",
       "  <tbody>\n",
       "    <tr>\n",
       "      <th>0</th>\n",
       "      <td>IMG/center_2016_12_01_13_30_48_287.jpg</td>\n",
       "      <td>IMG/left_2016_12_01_13_30_48_287.jpg</td>\n",
       "      <td>IMG/right_2016_12_01_13_30_48_287.jpg</td>\n",
       "      <td>0.0</td>\n",
       "      <td>0.0</td>\n",
       "      <td>0.0</td>\n",
       "      <td>22.148290</td>\n",
       "    </tr>\n",
       "    <tr>\n",
       "      <th>1</th>\n",
       "      <td>IMG/center_2016_12_01_13_30_48_404.jpg</td>\n",
       "      <td>IMG/left_2016_12_01_13_30_48_404.jpg</td>\n",
       "      <td>IMG/right_2016_12_01_13_30_48_404.jpg</td>\n",
       "      <td>0.0</td>\n",
       "      <td>0.0</td>\n",
       "      <td>0.0</td>\n",
       "      <td>21.879630</td>\n",
       "    </tr>\n",
       "    <tr>\n",
       "      <th>2</th>\n",
       "      <td>IMG/center_2016_12_01_13_31_12_937.jpg</td>\n",
       "      <td>IMG/left_2016_12_01_13_31_12_937.jpg</td>\n",
       "      <td>IMG/right_2016_12_01_13_31_12_937.jpg</td>\n",
       "      <td>0.0</td>\n",
       "      <td>0.0</td>\n",
       "      <td>0.0</td>\n",
       "      <td>1.453011</td>\n",
       "    </tr>\n",
       "    <tr>\n",
       "      <th>3</th>\n",
       "      <td>IMG/center_2016_12_01_13_31_13_037.jpg</td>\n",
       "      <td>IMG/left_2016_12_01_13_31_13_037.jpg</td>\n",
       "      <td>IMG/right_2016_12_01_13_31_13_037.jpg</td>\n",
       "      <td>0.0</td>\n",
       "      <td>0.0</td>\n",
       "      <td>0.0</td>\n",
       "      <td>1.438419</td>\n",
       "    </tr>\n",
       "    <tr>\n",
       "      <th>4</th>\n",
       "      <td>IMG/center_2016_12_01_13_31_13_177.jpg</td>\n",
       "      <td>IMG/left_2016_12_01_13_31_13_177.jpg</td>\n",
       "      <td>IMG/right_2016_12_01_13_31_13_177.jpg</td>\n",
       "      <td>0.0</td>\n",
       "      <td>0.0</td>\n",
       "      <td>0.0</td>\n",
       "      <td>1.418236</td>\n",
       "    </tr>\n",
       "  </tbody>\n",
       "</table>\n",
       "</div>"
      ],
      "text/plain": [
       "                                   center  \\\n",
       "0  IMG/center_2016_12_01_13_30_48_287.jpg   \n",
       "1  IMG/center_2016_12_01_13_30_48_404.jpg   \n",
       "2  IMG/center_2016_12_01_13_31_12_937.jpg   \n",
       "3  IMG/center_2016_12_01_13_31_13_037.jpg   \n",
       "4  IMG/center_2016_12_01_13_31_13_177.jpg   \n",
       "\n",
       "                                    left  \\\n",
       "0   IMG/left_2016_12_01_13_30_48_287.jpg   \n",
       "1   IMG/left_2016_12_01_13_30_48_404.jpg   \n",
       "2   IMG/left_2016_12_01_13_31_12_937.jpg   \n",
       "3   IMG/left_2016_12_01_13_31_13_037.jpg   \n",
       "4   IMG/left_2016_12_01_13_31_13_177.jpg   \n",
       "\n",
       "                                    right  steering  throttle  brake  \\\n",
       "0   IMG/right_2016_12_01_13_30_48_287.jpg       0.0       0.0    0.0   \n",
       "1   IMG/right_2016_12_01_13_30_48_404.jpg       0.0       0.0    0.0   \n",
       "2   IMG/right_2016_12_01_13_31_12_937.jpg       0.0       0.0    0.0   \n",
       "3   IMG/right_2016_12_01_13_31_13_037.jpg       0.0       0.0    0.0   \n",
       "4   IMG/right_2016_12_01_13_31_13_177.jpg       0.0       0.0    0.0   \n",
       "\n",
       "       speed  \n",
       "0  22.148290  \n",
       "1  21.879630  \n",
       "2   1.453011  \n",
       "3   1.438419  \n",
       "4   1.418236  "
      ]
     },
     "execution_count": 2,
     "metadata": {},
     "output_type": "execute_result"
    }
   ],
   "source": [
    "drive_log_df = pd.read_csv('./data/driving_log.csv')\n",
    "drive_log_df.head()"
   ]
  },
  {
   "cell_type": "markdown",
   "metadata": {},
   "source": [
    "Cool we can see that we have three different angles of images, steering, throttle, brake and speed data. Lets try to visualize it."
   ]
  },
  {
   "cell_type": "code",
   "execution_count": 3,
   "metadata": {},
   "outputs": [
    {
     "data": {
      "image/png": "[encoded data removed]",
      "text/plain": [
       "<matplotlib.figure.Figure at 0x11ba804a8>"
      ]
     },
     "metadata": {},
     "output_type": "display_data"
    },
    {
     "name": "stdout",
     "output_type": "stream",
     "text": [
      "Dataset Size:  8036\n"
     ]
    }
   ],
   "source": [
    "plt.figure(figsize=(10,4))\n",
    "drive_log_df.steering.hist(bins=100, color='b')\n",
    "plt.xlabel('steering angle bins')\n",
    "plt.ylabel('counts')\n",
    "plt.show()\n",
    "print(\"Dataset Size: \", len(drive_log_df.steering))"
   ]
  },
  {
   "cell_type": "markdown",
   "metadata": {},
   "source": [
    "This data has a great pick on steering angle of 0 and it is very unbalanced. what can be done about it? we can drop 90 percent of our data that is corresponding to it."
   ]
  },
  {
   "cell_type": "code",
   "execution_count": 4,
   "metadata": {
    "collapsed": true
   },
   "outputs": [],
   "source": [
    "zero_steering = drive_log_df[drive_log_df.steering == 0].sample(frac=0.9)\n",
    "drive_log_df = drive_log_df.drop(zero_steering.index)"
   ]
  },
  {
   "cell_type": "markdown",
   "metadata": {},
   "source": [
    "Cool now lets visualize it again."
   ]
  },
  {
   "cell_type": "code",
   "execution_count": 5,
   "metadata": {},
   "outputs": [
    {
     "data": {
      "image/png": "[encoded data removed]",
      "text/plain": [
       "<matplotlib.figure.Figure at 0x11b425358>"
      ]
     },
     "metadata": {},
     "output_type": "display_data"
    },
    {
     "name": "stdout",
     "output_type": "stream",
     "text": [
      "Current Dataset Size:  4111\n"
     ]
    }
   ],
   "source": [
    "plt.figure(figsize=(10,4))\n",
    "drive_log_df.steering.hist(bins=100, color='b')\n",
    "plt.xlabel('steering angle bins')\n",
    "plt.ylabel('counts')\n",
    "plt.show()\n",
    "print(\"Current Dataset Size: \", len(drive_log_df.steering))"
   ]
  },
  {
   "cell_type": "markdown",
   "metadata": {},
   "source": [
    "Much better. Two things. First we have lost a lot of data (which were not useful) also still our classes are not balanced. What can we do? Lets use data augmentation techniques to generate more data for the bins that are low in number of data points! We can flip and change the steering wheel angle.\n",
    "This new driver log file is created to later support larger datasets by adding more 'meta' columns with augmentation information. You'll notice that each augmentation method adds the columns it needs to later augment the image when loaded."
   ]
  },
  {
   "cell_type": "code",
   "execution_count": 6,
   "metadata": {},
   "outputs": [
    {
     "data": {
      "text/html": [
       "<div>\n",
       "<style>\n",
       "    .dataframe thead tr:only-child th {\n",
       "        text-align: right;\n",
       "    }\n",
       "\n",
       "    .dataframe thead th {\n",
       "        text-align: left;\n",
       "    }\n",
       "\n",
       "    .dataframe tbody tr th {\n",
       "        vertical-align: top;\n",
       "    }\n",
       "</style>\n",
       "<table border=\"1\" class=\"dataframe\">\n",
       "  <thead>\n",
       "    <tr style=\"text-align: right;\">\n",
       "      <th></th>\n",
       "      <th>image</th>\n",
       "      <th>steering</th>\n",
       "    </tr>\n",
       "  </thead>\n",
       "  <tbody>\n",
       "    <tr>\n",
       "      <th>12328</th>\n",
       "      <td>IMG/right_2016_12_01_13_46_37_887.jpg</td>\n",
       "      <td>-0.23</td>\n",
       "    </tr>\n",
       "    <tr>\n",
       "      <th>12329</th>\n",
       "      <td>IMG/center_2016_12_01_13_46_37_887.jpg</td>\n",
       "      <td>0.00</td>\n",
       "    </tr>\n",
       "    <tr>\n",
       "      <th>12330</th>\n",
       "      <td>IMG/left_2016_12_01_13_46_38_395.jpg</td>\n",
       "      <td>0.23</td>\n",
       "    </tr>\n",
       "    <tr>\n",
       "      <th>12331</th>\n",
       "      <td>IMG/right_2016_12_01_13_46_38_395.jpg</td>\n",
       "      <td>-0.23</td>\n",
       "    </tr>\n",
       "    <tr>\n",
       "      <th>12332</th>\n",
       "      <td>IMG/center_2016_12_01_13_46_38_395.jpg</td>\n",
       "      <td>0.00</td>\n",
       "    </tr>\n",
       "  </tbody>\n",
       "</table>\n",
       "</div>"
      ],
      "text/plain": [
       "                                        image  steering\n",
       "12328   IMG/right_2016_12_01_13_46_37_887.jpg     -0.23\n",
       "12329  IMG/center_2016_12_01_13_46_37_887.jpg      0.00\n",
       "12330    IMG/left_2016_12_01_13_46_38_395.jpg      0.23\n",
       "12331   IMG/right_2016_12_01_13_46_38_395.jpg     -0.23\n",
       "12332  IMG/center_2016_12_01_13_46_38_395.jpg      0.00"
      ]
     },
     "execution_count": 6,
     "metadata": {},
     "output_type": "execute_result"
    }
   ],
   "source": [
    "def update_left_right_steering_correction(df):\n",
    "    records = []\n",
    "    for index, row in df.iterrows():\n",
    "        left = row.left\n",
    "        center = row.center\n",
    "        right = row.right\n",
    "        steering = row.steering\n",
    "        \n",
    "        records.append({\n",
    "            'image': left,\n",
    "            'steering': steering + 0.23\n",
    "        })\n",
    "        \n",
    "        records.append({\n",
    "            'image': right,\n",
    "            'steering': steering - 0.23\n",
    "        })\n",
    "        \n",
    "        records.append({\n",
    "            'image': center,\n",
    "            'steering': steering\n",
    "        })\n",
    "    \n",
    "    return pd.DataFrame(data=records, columns=['image', 'steering'])\n",
    "\n",
    "new_drive_log = update_left_right_steering_correction(drive_log_df)\n",
    "new_drive_log.tail()"
   ]
  },
  {
   "cell_type": "code",
   "execution_count": 7,
   "metadata": {},
   "outputs": [
    {
     "data": {
      "image/png": "[encoded data removed]",
      "text/plain": [
       "<matplotlib.figure.Figure at 0x11ee12be0>"
      ]
     },
     "metadata": {},
     "output_type": "display_data"
    },
    {
     "name": "stdout",
     "output_type": "stream",
     "text": [
      "Current Dataset Size:  17092\n"
     ]
    }
   ],
   "source": [
    "def flip_images_augmentation(df):\n",
    "    new_df = df[df.steering != 0].sample(frac=0.4)\n",
    "    df.loc[:,'is_flipped'] = False\n",
    "    new_df.loc[:,'is_flipped'] = True\n",
    "    left_rows = (new_df.steering < 0)\n",
    "    right_rows = (new_df.steering > 0)\n",
    "    new_df.loc[left_rows,'steering'] = new_df[left_rows].steering.abs()\n",
    "    new_df.loc[right_rows, 'steering'] = new_df[right_rows].steering * -1\n",
    "    return pd.concat([df, new_df])\n",
    "\n",
    "augmented = flip_images_augmentation(new_drive_log)\n",
    "\n",
    "plt.figure(figsize=(10,4))\n",
    "augmented.steering.hist(bins=100, color='b')\n",
    "plt.xlabel('steering angle bins')\n",
    "plt.ylabel('counts')\n",
    "plt.show()\n",
    "print(\"Current Dataset Size: \", len(augmented.steering))"
   ]
  },
  {
   "cell_type": "markdown",
   "metadata": {},
   "source": [
    "Cool! Now we have more data points! boosting up to 15602 data points but still unbalanced. We have to upsample under represented example and we do this by shifting images and their corresponding angles."
   ]
  },
  {
   "cell_type": "code",
   "execution_count": 8,
   "metadata": {},
   "outputs": [
    {
     "data": {
      "image/png": "[encoded data removed]",
      "text/plain": [
       "<matplotlib.figure.Figure at 0x11f73acf8>"
      ]
     },
     "metadata": {},
     "output_type": "display_data"
    },
    {
     "name": "stdout",
     "output_type": "stream",
     "text": [
      "Current Dataset Size:  33748\n"
     ]
    }
   ],
   "source": [
    "def shift_img_augmentation(df):\n",
    "    df.loc[:,'random_shift'] = 0\n",
    "    new_df = df[df.steering != 0].copy()\n",
    "    df.loc[:,'is_shift'] = False\n",
    "    new_df.loc[:,'is_shift'] = True\n",
    "    \n",
    "    \n",
    "    max_shift = 30\n",
    "    max_ang = 0.17\n",
    "    \n",
    "    def row_shift_update(row):\n",
    "        random_shift = np.random.randint(-max_shift, max_shift + 1)\n",
    "        row.random_shift = random_shift\n",
    "        updated_steer = row.steering + (random_shift / max_shift) * max_ang\n",
    "        if abs(updated_steer) > 1:\n",
    "            updated_steer = -1 if (updated_steer < 0) else 1\n",
    "\n",
    "        row.steering = updated_steer\n",
    "        return row\n",
    "\n",
    "    new_df = new_df.apply(row_shift_update, axis=1)\n",
    "    return pd.concat([df, new_df])\n",
    "\n",
    "shifted = shift_img_augmentation(augmented)\n",
    "plt.figure(figsize=(10,4))\n",
    "shifted.steering.hist(bins=100, color='b')\n",
    "plt.xlabel('steering angle bins')\n",
    "plt.ylabel('counts')\n",
    "plt.show()\n",
    "print(\"Current Dataset Size: \", len(shifted.steering))\n",
    "\n",
    "shifted.tail(1)\n",
    "plt.show()"
   ]
  },
  {
   "cell_type": "markdown",
   "metadata": {},
   "source": [
    "Even more data has been generated and the shape of the data is more like a guassian distribution and certainly more balanced but we have reated steering angles outside the bounds of [-1,1]. So lets fix that and we then we would trim the data so the end result is no bins will go past 400 examples! Cool right?"
   ]
  },
  {
   "cell_type": "code",
   "execution_count": 9,
   "metadata": {
    "collapsed": true
   },
   "outputs": [],
   "source": [
    "def process_driver_log(driver_log):\n",
    "    update_log = update_left_right_steering_correction(driver_log)\n",
    "    update_log = flip_images_augmentation(update_log)\n",
    "    update_log = shift_img_augmentation(update_log)\n",
    "    #update_log = change_brightness_augmentation(update_log)\n",
    "    \n",
    "    #reset index since we it's no longer good.\n",
    "    update_log = update_log.reset_index(drop=True)\n",
    "    \n",
    "    #drop outbound steering examples to be between [-1,1] !\n",
    "    outbound_steering = update_log[abs(update_log.steering) > 1]\n",
    "    update_log = update_log.drop(outbound_steering.index)\n",
    "\n",
    "    return update_log"
   ]
  },
  {
   "cell_type": "code",
   "execution_count": 10,
   "metadata": {},
   "outputs": [
    {
     "data": {
      "image/png": "[encoded data removed]",
      "text/plain": [
       "<matplotlib.figure.Figure at 0x11f45add8>"
      ]
     },
     "metadata": {},
     "output_type": "display_data"
    },
    {
     "name": "stdout",
     "output_type": "stream",
     "text": [
      "Current Dataset Size:  33738\n"
     ]
    }
   ],
   "source": [
    "processed_log = process_driver_log(drive_log_df)\n",
    "\n",
    "plt.figure(figsize=(10,4))\n",
    "processed_log.steering.hist(bins=100, color='b')\n",
    "plt.xlabel('steering angle bins')\n",
    "plt.ylabel('counts')\n",
    "plt.show()\n",
    "print(\"Current Dataset Size: \", len(processed_log.steering))"
   ]
  },
  {
   "cell_type": "code",
   "execution_count": 11,
   "metadata": {
    "collapsed": true
   },
   "outputs": [],
   "source": [
    "hist, counts = np.histogram(processed_log.steering, bins=100)\n",
    "upper_limit = 400\n",
    "over = [(i, v) for i, v in enumerate(hist) if v > upper_limit ]\n",
    "over_ranges = [(counts[i],counts[i+1]) for i,_ in over]\n",
    "\n",
    "#loop through ranges and create a mask for each bin \n",
    "masks = [\"processed_log[(processed_log.steering >= {0}) & (processed_log.steering < {1})]\".format(l,r) for l,r in over_ranges]\n",
    "\n",
    "for mask in masks:\n",
    "    selected = eval(mask)\n",
    "    selected_length = len(selected)\n",
    "    frac_to_drop = (selected_length-upper_limit)/selected_length\n",
    "    samples_to_drop = selected.sample(frac=frac_to_drop)\n",
    "    processed_log = processed_log.drop(samples_to_drop.index)"
   ]
  },
  {
   "cell_type": "code",
   "execution_count": 12,
   "metadata": {},
   "outputs": [
    {
     "data": {
      "image/png": "[encoded data removed]",
      "text/plain": [
       "<matplotlib.figure.Figure at 0x11f158ef0>"
      ]
     },
     "metadata": {},
     "output_type": "display_data"
    },
    {
     "name": "stdout",
     "output_type": "stream",
     "text": [
      "Current Dataset Size:  20362\n"
     ]
    }
   ],
   "source": [
    "plt.figure(figsize=(10,4))\n",
    "processed_log.steering.hist(bins=100, color='g')\n",
    "plt.xlabel('steering angle bins')\n",
    "plt.ylabel('counts')\n",
    "plt.show()\n",
    "print(\"Current Dataset Size: \", len(processed_log.steering))\n"
   ]
  },
  {
   "cell_type": "markdown",
   "metadata": {},
   "source": [
    "Now lets save our preprocessed data!"
   ]
  },
  {
   "cell_type": "code",
   "execution_count": 13,
   "metadata": {
    "collapsed": true
   },
   "outputs": [],
   "source": [
    "processed_log.to_csv('preprocessed_driver_log.csv')"
   ]
  },
  {
   "cell_type": "code",
   "execution_count": null,
   "metadata": {
    "collapsed": true
   },
   "outputs": [],
   "source": []
  }
 ],
 "metadata": {
  "kernelspec": {
   "display_name": "Python [Root]",
   "language": "python",
   "name": "Python [Root]"
  },
  "language_info": {
   "codemirror_mode": {
    "name": "ipython",
    "version": 3
   },
   "file_extension": ".py",
   "mimetype": "text/x-python",
   "name": "python",
   "nbconvert_exporter": "python",
   "pygments_lexer": "ipython3",
   "version": "3.5.3"
  }
 },
 "nbformat": 4,
 "nbformat_minor": 2
}
